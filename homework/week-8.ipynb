{
  "nbformat": 4,
  "nbformat_minor": 0,
  "metadata": {
    "colab": {
      "provenance": [],
      "include_colab_link": true
    },
    "kernelspec": {
      "name": "python3",
      "display_name": "Python 3"
    },
    "language_info": {
      "name": "python"
    }
  },
  "cells": [
    {
      "cell_type": "markdown",
      "metadata": {
        "id": "view-in-github",
        "colab_type": "text"
      },
      "source": [
        "<a href=\"https://colab.research.google.com/github/laurendunbar/ds1002-npr9wk/blob/main/homework/week-8.ipynb\" target=\"_parent\"><img src=\"https://colab.research.google.com/assets/colab-badge.svg\" alt=\"Open In Colab\"/></a>"
      ]
    },
    {
      "cell_type": "markdown",
      "source": [
        "## While-Loops\n",
        "\n",
        "Perform the following steps in code:\n",
        "1. Define a variable and populate it with `0`.\n",
        "2. Create a while statement that evaluates whether that variable is less than or equal to `20`.\n",
        "3. Within the while loop evaluate if the variable value is even or odd.\n",
        "4. Within the while loop, if the variable value is even, print it. If not, do not print it.\n",
        "5. Within the while loop, finally add `1` to the variable before it repeats."
      ],
      "metadata": {
        "id": "But1V5T5qWJG"
      }
    },
    {
      "cell_type": "code",
      "source": [
        "# code here\n",
        "var = 0\n",
        "while var <= 20:\n",
        "  if var % 2 == 0:\n",
        "        print(var)\n",
        "  var += 1"
      ],
      "metadata": {
        "id": "GyQTkbqUq6SQ",
        "outputId": "7e3e7584-1521-4657-d599-6e5a5dfc7f5b",
        "colab": {
          "base_uri": "https://localhost:8080/"
        }
      },
      "execution_count": 9,
      "outputs": [
        {
          "output_type": "stream",
          "name": "stdout",
          "text": [
            "0\n",
            "2\n",
            "4\n",
            "6\n",
            "8\n",
            "10\n",
            "12\n",
            "14\n",
            "16\n",
            "18\n",
            "20\n"
          ]
        }
      ]
    },
    {
      "cell_type": "markdown",
      "source": [
        "## For-Loops with Lists"
      ],
      "metadata": {
        "id": "ghRg1MRwoXvD"
      }
    },
    {
      "cell_type": "code",
      "source": [
        "# Use this list in the exercises below\n",
        "\n",
        "mylist = [9, 15, 23, 4, 92, 47, 33, 17, -4, 18, 38, -242]"
      ],
      "metadata": {
        "id": "G0PaWRBuoZdQ"
      },
      "execution_count": 10,
      "outputs": []
    },
    {
      "cell_type": "code",
      "source": [
        "# Write a command to print out all the values of this list\n",
        "# EXCEPT for any negative values. Omit them from the printing.\n",
        "for num in mylist:\n",
        "    if num >= 0:\n",
        "        print(num)\n"
      ],
      "metadata": {
        "id": "hzoe9vw3phWs",
        "outputId": "c4a3a2b2-f4f8-4d96-8cb9-891822f375f8",
        "colab": {
          "base_uri": "https://localhost:8080/"
        }
      },
      "execution_count": 13,
      "outputs": [
        {
          "output_type": "stream",
          "name": "stdout",
          "text": [
            "9\n",
            "15\n",
            "23\n",
            "4\n",
            "92\n",
            "47\n",
            "33\n",
            "17\n",
            "18\n",
            "38\n"
          ]
        }
      ]
    },
    {
      "cell_type": "code",
      "source": [
        "# Repeat the command from above, but this time get\n",
        "# the absolute value of any negative values in the list\n",
        "# and print those with the other items.\n",
        "for num in mylist:\n",
        "    if num < 0:\n",
        "        num = abs(num)\n",
        "    print(num)"
      ],
      "metadata": {
        "id": "IE1-XLNrpnvy",
        "outputId": "db3c379b-99af-4416-fac7-e1d992883b33",
        "colab": {
          "base_uri": "https://localhost:8080/"
        }
      },
      "execution_count": 14,
      "outputs": [
        {
          "output_type": "stream",
          "name": "stdout",
          "text": [
            "9\n",
            "15\n",
            "23\n",
            "4\n",
            "92\n",
            "47\n",
            "33\n",
            "17\n",
            "4\n",
            "18\n",
            "38\n",
            "242\n"
          ]
        }
      ]
    },
    {
      "cell_type": "code",
      "source": [
        "# Similar to above, write a command to print out items in\n",
        "# the list but omit any values greater than 20 and less than 40.\n",
        "for num in mylist:\n",
        "    if 20 <= num <= 40:\n",
        "        continue\n",
        "    print(num)"
      ],
      "metadata": {
        "id": "rC38pZowp4LX",
        "outputId": "7a37f01b-7394-4aac-edbd-159a5e4db6a4",
        "colab": {
          "base_uri": "https://localhost:8080/"
        }
      },
      "execution_count": 16,
      "outputs": [
        {
          "output_type": "stream",
          "name": "stdout",
          "text": [
            "9\n",
            "15\n",
            "4\n",
            "92\n",
            "47\n",
            "17\n",
            "-4\n",
            "18\n",
            "-242\n"
          ]
        }
      ]
    },
    {
      "cell_type": "markdown",
      "source": [
        "## For-Loops with Dictionaries"
      ],
      "metadata": {
        "id": "BD1Wg4oSSEdz"
      }
    },
    {
      "cell_type": "code",
      "source": [
        "capitals = {'United States':'Washington DC',\n",
        "          'Italy':'Rome',\n",
        "          'England':'London',\n",
        "          'Thailand':'Bangkok',\n",
        "          'Brazil':'Brasilia'}"
      ],
      "metadata": {
        "id": "9DpHR_WzSGA8"
      },
      "execution_count": 18,
      "outputs": []
    },
    {
      "cell_type": "code",
      "source": [
        "# Write a command to print out all the keys of this dict\n",
        "print(capitals.keys())"
      ],
      "metadata": {
        "id": "Iy_i6RE3S1ta",
        "outputId": "e779e266-c693-4295-ec33-ebcdbf0b8ad8",
        "colab": {
          "base_uri": "https://localhost:8080/"
        }
      },
      "execution_count": 19,
      "outputs": [
        {
          "output_type": "stream",
          "name": "stdout",
          "text": [
            "dict_keys(['United States', 'Italy', 'England', 'Thailand', 'Brazil'])\n"
          ]
        }
      ]
    },
    {
      "cell_type": "code",
      "source": [
        "# Write a command to print out all the values of this dict\n",
        "print(capitals.values())"
      ],
      "metadata": {
        "id": "eYNBRQAsS95v",
        "outputId": "6f4177e2-1ff3-4f87-e22f-3e720625226e",
        "colab": {
          "base_uri": "https://localhost:8080/"
        }
      },
      "execution_count": 20,
      "outputs": [
        {
          "output_type": "stream",
          "name": "stdout",
          "text": [
            "dict_values(['Washington DC', 'Rome', 'London', 'Bangkok', 'Brasilia'])\n"
          ]
        }
      ]
    },
    {
      "cell_type": "code",
      "source": [
        "# Write a command to print all the keys and values for this dict\n",
        "for key, value in capitals.items():\n",
        "    print(f\"Country: {key}, Capital: {value}\")"
      ],
      "metadata": {
        "id": "b1KYFdDxSH7X",
        "outputId": "cf5d53db-8bd0-4e2c-a115-8c90edd6c7fb",
        "colab": {
          "base_uri": "https://localhost:8080/"
        }
      },
      "execution_count": 23,
      "outputs": [
        {
          "output_type": "stream",
          "name": "stdout",
          "text": [
            "Country: United States, Capital: Washington DC\n",
            "Country: Italy, Capital: Rome\n",
            "Country: England, Capital: London\n",
            "Country: Thailand, Capital: Bangkok\n",
            "Country: Brazil, Capital: Brasilia\n"
          ]
        }
      ]
    },
    {
      "cell_type": "code",
      "source": [
        "# Write a command to print only the first three values and NOTHING more.\n",
        "count = 0\n",
        "for value in capitals.values():\n",
        "    if count < 3:\n",
        "        print(value)\n",
        "        count += 1\n",
        "    else:\n",
        "        break"
      ],
      "metadata": {
        "id": "pun10Fq2oonQ",
        "outputId": "2eb35deb-cfac-4d33-da9f-89d172c3f8f1",
        "colab": {
          "base_uri": "https://localhost:8080/"
        }
      },
      "execution_count": 24,
      "outputs": [
        {
          "output_type": "stream",
          "name": "stdout",
          "text": [
            "Washington DC\n",
            "Rome\n",
            "London\n"
          ]
        }
      ]
    }
  ]
}